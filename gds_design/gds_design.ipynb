{
 "cells": [
  {
   "cell_type": "markdown",
   "metadata": {},
   "source": [
    "### Government Digital Service\n",
    "#**Design Principles**\n",
    "\n",
    "Listed below are our design principles and examples of how we’ve used them so far. \n",
    "These build on, and add to, our original [7 digital principles](http://www.flickr.com/photos/benterrett/7041509709/).\n",
    "\n",
    "1.  Start with needs*\n",
    "2.  Do less\n",
    "3.  Design with data\n",
    "4.  Do the hard work to make it simple\n",
    "5.  Iterate. Then iterate again.\n",
    "6.  This is for everyone\n",
    "7.  Understand context\n",
    "8.  Build digital services, not websites\n",
    "9.  Be consistent, not uniform\n",
    "10.  Make things open: it makes things better"
   ]
  },
  {
   "cell_type": "markdown",
   "metadata": {},
   "source": [
    "# 1 Start with needs*\n",
    "\n",
    "## *user needs not government needs\n",
    "\n",
    "Service design starts with identifying user needs. If you don’t know what the user needs are, you won’t build the right thing. Do research, analyse data, talk to users. Don’t make assumptions. Have empathy for users, and should remember that what they ask for isn't always what they need.\n",
    "\n",
    "*   [What we mean when we say “service transformation”](https://gds.blog.gov.uk/2014/07/03/what-we-mean-when-we-say-service-transformation/), by Mike Bracken\n",
    "*   [Most of government is mostly service design most of the time](http://blog.mattedgar.com/2015/05/12/most-of-government-is-mostly-service-design-most-of-the-time-discuss/), by Matt Edgar\n",
    "*   [Vertical campfires: our user research walls](https://gds.blog.gov.uk/2014/09/03/vertical-campfires-our-user-research-walls/), by Kate Towsey"
   ]
  },
  {
   "cell_type": "markdown",
   "metadata": {},
   "source": [
    "# 2 Do less\n",
    "\n",
    "Government should only do what only government can do. If we’ve found a way of doing something that works, we should make it reusable and shareable instead of reinventing the wheel every time. This means building platforms and registers others can build upon, providing resources (like APIs) that others can use, and linking to the work of others. We should concentrate on the irreducible core.\n",
    "\n",
    "*   [Building digital civic infrastructure from the ground up](https://gds.blog.gov.uk/2014/10/15/building-digital-civic-infrastructure-from-the-ground-up/), by Mike Bracken\n",
    "*   [What we’ve learned about scaling agile](https://gds.blog.gov.uk/2012/10/26/what-weve-learnt-about-scaling-agile/), by Jamie Arnold"
   ]
  },
  {
   "cell_type": "markdown",
   "metadata": {},
   "source": [
    "# 3 Design with data\n",
    "\n",
    "In most cases, we can learn from real world behaviour by looking at how existing services are used. Let data drive decision-making, not hunches or guesswork. Keep doing that after taking your service live, prototyping and testing with users then iterating in response. Analytics should be built-in, always on and easy to read. They’re an essential tool.\n",
    "\n",
    "*   [Performance data for government services](https://www.gov.uk/performance)\n",
    "*   [Retiring our icons](https://gds.blog.gov.uk/2013/06/18/retiring-our-icons/), by Guy Moorhouse\n",
    "*   [Combining user research and analytics to improve the user experience](https://gds.blog.gov.uk/2014/10/10/combining-user-research-and-analytics-to-improve-the-user-experience/), by Lana Gibson and Charlotte Clancy"
   ]
  },
  {
   "cell_type": "markdown",
   "metadata": {},
   "source": [
    "# 4 Do the hard work to make it simple\n",
    "\n",
    "Making something look simple is easy. Making something simple to use is much harder — especially when the underlying systems are complex — but that’s what we should be doing. Don’t take “It’s always been that way” for an answer. It’s usually more and harder work to make things simple, but it’s the right thing to do.\n",
    "\n",
    "*   [Doing the hard work to make things simple](https://gds.blog.gov.uk/2014/07/28/doing-the-hard-work-to-make-things-simple/), by Mike Bracken\n",
    "*   [I fought the law and the users won](https://gds.blog.gov.uk/2014/06/20/i-fought-the-law-and-the-users-won-delivering-online-voter-registration/), by Pete Herlihy\n",
    "*   [This is what we mean when we say “service transformation”](https://gds.blog.gov.uk/2014/07/03/what-we-mean-when-we-say-service-transformation/), by Mike Bracken"
   ]
  },
  {
   "cell_type": "markdown",
   "metadata": {},
   "source": [
    "# 5 Iterate. Then iterate again.\n",
    "\n",
    "The best way to build good services is to start small and iterate wildly. Release [Minimum Viable Products](https://en.wikipedia.org/wiki/Minimum_viable_product) early, test them with actual users, move from [Alpha](https://en.wikipedia.org/wiki/Software_release_life_cycle#Alpha) to [Beta](https://en.wikipedia.org/wiki/Software_release_life_cycle#Beta) to Live adding features, deleting things that don’t work and making refinements based on feedback. Iteration reduces risk. It makes big failures unlikely and turns small failures into lessons. If a prototype isn’t working, don’t be afraid to scrap it and start again.\n",
    "\n",
    "*   [Discovering discovery](http://makeitquotidian.co.uk/2015/06/16/discovering-discovery/), by Sarah Prag\n",
    "*   [6 case studies using research and data to improve a live service](https://userresearch.blog.gov.uk/2014/09/17/6-case-studies-using-research-and-data-to-improve-a-live-service/), by Ben Holliday\n",
    "*   [Exemplars making examples of themselves](https://gds.blog.gov.uk/2015/02/05/exemplars-making-examples-of-themselves/), by Mike Bracken"
   ]
  },
  {
   "cell_type": "markdown",
   "metadata": {},
   "source": [
    "# 6 This is for everyone\n",
    "\n",
    "Accessible design is good design. Everything we build should be as inclusive, legible and readable as possible. If we have to sacrifice elegance — so be it. We’re building for needs, not audiences. We’re designing for the whole country, not just the ones who are used to using the web. The people who most need our services are often the people who find them hardest to use. Let’s think about those people from the start.\n",
    "\n",
    "*   [Building for inclusion](https://gds.blog.gov.uk/2012/10/01/building-for-inclusion/), by Léonie Watson\n",
    "*   [What are we doing about accessibility?](https://gds.blog.gov.uk/2014/01/09/what-are-we-doing-about-accessibility/) by Joshua Marshall\n",
    "*   [Here’s what we mean by “building for inclusion”](https://gds.blog.gov.uk/2014/09/23/heres-what-we-mean-by-building-for-inclusion/), by Mike Bracken"
   ]
  },
  {
   "cell_type": "markdown",
   "metadata": {},
   "source": [
    "# 7 Understand context\n",
    "\n",
    "We’re not designing for a screen, we’re designing for people. We need to think hard about the context in which they’re using our services. Are they in a library? Are they on a phone? Are they only really familiar with Facebook? Have they never used the web before?\n",
    "\n",
    "*   [How we recruited people with low/no digital skills on Carer's Allowance](https://userresearch.blog.gov.uk/2015/02/13/how-we-recruited-people-with-lowno-digital-skills-on-carers-allowance/), by Simon Hurst\n",
    "*   [The right place to do rural research](https://userresearch.blog.gov.uk/2015/03/11/the-right-place-to-do-rural-research/), by Emily Ball"
   ]
  },
  {
   "cell_type": "markdown",
   "metadata": {},
   "source": [
    "# 8 Build digital services, not websites\n",
    "\n",
    "A service is something that helps people to do something. Our job is to uncover user needs, and build the service that meets those needs. Of course much of that will be pages on the web, but we’re not here to build websites. The digital world has to connect to the real world, so we have to think about all aspects of a service, and make sure they add up to something that meets user needs.\n",
    "\n",
    "*   [Digital leadership](https://speakerdeck.com/kitcollingwood/digital-leadership-presentation), by Kit Collingwood-Richardson\n",
    "*   [Revealing the hidden side of transformation](https://gds.blog.gov.uk/2014/12/17/revealing-the-hidden-side-of-transformation/), by Mike Bracken\n",
    "*   [Not the HMRC of old](https://gds.blog.gov.uk/2015/03/27/not-the-hmrc-of-old/), by Mike Bracken"
   ]
  },
  {
   "cell_type": "markdown",
   "metadata": {},
   "source": [
    "# 9 Be consistent, not uniform\n",
    "\n",
    "We should use the same language and the same design patterns wherever possible. This helps people get familiar with our services, but when this isn’t possible we should make sure our approach is consistent.\n",
    "\n",
    "This isn’t a straitjacket or a rule book. Every circumstance is different. When we find patterns that work we should share them, and talk about why we use them. But that shouldn’t stop us from improving or changing them in the future when we find better ways of doing things or the needs of users change.\n",
    "\n",
    "*   [The GOV.UK Design Patterns Hackpad](https://designpatterns.hackpad.com/)\n",
    "*   [What’s the design process at GDS?](https://gds.blog.gov.uk/2014/07/18/whats-the-design-process-at-gds/) by Ben Terrett"
   ]
  },
  {
   "cell_type": "markdown",
   "metadata": {},
   "source": [
    "# 10 Make things open: it makes things better\n",
    "\n",
    "We should share what we’re doing whenever we can. With colleagues, with users, with the world. Share code, share designs, share ideas, share intentions, share failures. The more eyes there are on a service the better it gets — howlers are spotted, better alternatives are pointed out, the bar is raised.\n",
    "\n",
    "Much of what we’re doing is only possible because of open source code and the generosity of the web design community. We should pay that back.\n",
    "\n",
    "*   [GDS, USDS, and sharing expertise](https://gds.blog.gov.uk/2015/01/20/gds-usds/), by Mike Bracken\n",
    "*   [How sharing helps us improve digital services](https://gds.blog.gov.uk/2014/08/22/how-sharing-helps-us-improve-digital-services/), by Mike Bracken"
   ]
  },
  {
   "cell_type": "markdown",
   "metadata": {},
   "source": [
    "---\n",
    "\n",
    "[Open Government Licence](https://www.nationalarchives.gov.uk/doc/open-government-licence/version/3/)\n",
    "\n",
    "All content is available under the [Open Government Licence v3.0](https://www.nationalarchives.gov.uk/doc/open-government-licence/version/3/), except where otherwise stated\n",
    "\n",
    "[© Crown copyright](http://www.nationalarchives.gov.uk/information-management/re-using-public-sector-information/copyright-and-re-use/crown-copyright/)"
   ]
  },
  {
   "cell_type": "code",
   "execution_count": null,
   "metadata": {
    "collapsed": true
   },
   "outputs": [],
   "source": []
  }
 ],
 "metadata": {
  "kernelspec": {
   "display_name": "Python 2",
   "language": "python",
   "name": "python2"
  },
  "language_info": {
   "codemirror_mode": {
    "name": "ipython",
    "version": 2
   },
   "file_extension": ".py",
   "mimetype": "text/x-python",
   "name": "python",
   "nbconvert_exporter": "python",
   "pygments_lexer": "ipython2",
   "version": "2.7.10"
  }
 },
 "nbformat": 4,
 "nbformat_minor": 0
}
